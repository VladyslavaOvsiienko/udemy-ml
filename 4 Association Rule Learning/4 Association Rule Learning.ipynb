{
 "cells": [
  {
   "cell_type": "markdown",
   "id": "derived-television",
   "metadata": {},
   "source": [
    "# Association Rule Learning Practice"
   ]
  },
  {
   "cell_type": "markdown",
   "id": "direct-intake",
   "metadata": {},
   "source": [
    "The goal of this practice is to find  a promotional product that visitors want to buy, namely buy one or two products, he will receive it as a gift and this product should be most strongly associated with this product or products. \n",
    "Two methods are presented here - Apriori and Eclat. In the Apriori, we draw conclusions based on the following indicators: suport, confidence, lift and Eclat is based only on the support of 'the product group'."
   ]
  },
  {
   "cell_type": "markdown",
   "id": "retained-vehicle",
   "metadata": {},
   "source": [
    "The data belongs to a bakery called \"The Bread Basket\", located in the historic center of Edinburgh. This bakery presents a refreshing offer of Argentine and Spanish products. The data set contains the following columns: Date (YYYY-MM-DD format). Time (HH:MM:SS format). Transaction. Q The rows that share the same value in this field belong to the same transaction, that's why the data set has less transactions than observations.\n",
    "https://www.kaggle.com/aboliveira/bakery-market-basket-analysis/data"
   ]
  },
  {
   "cell_type": "markdown",
   "id": "accomplished-southeast",
   "metadata": {},
   "source": [
    "## Importing the libraries"
   ]
  },
  {
   "cell_type": "code",
   "execution_count": 1,
   "id": "stupid-netscape",
   "metadata": {},
   "outputs": [],
   "source": [
    "import numpy as np\n",
    "import matplotlib.pyplot as plt\n",
    "import pandas as pd"
   ]
  },
  {
   "cell_type": "code",
   "execution_count": 2,
   "id": "alien-amendment",
   "metadata": {},
   "outputs": [],
   "source": [
    "import warnings\n",
    "warnings.filterwarnings(\"ignore\")"
   ]
  },
  {
   "cell_type": "markdown",
   "id": "vital-liberty",
   "metadata": {},
   "source": [
    "## Importing the dataset"
   ]
  },
  {
   "cell_type": "code",
   "execution_count": 3,
   "id": "olive-spine",
   "metadata": {},
   "outputs": [],
   "source": [
    "dataset = pd.read_csv('BreadBasket.csv')"
   ]
  },
  {
   "cell_type": "code",
   "execution_count": 4,
   "id": "apart-wagner",
   "metadata": {},
   "outputs": [
    {
     "data": {
      "text/html": [
       "<div>\n",
       "<style scoped>\n",
       "    .dataframe tbody tr th:only-of-type {\n",
       "        vertical-align: middle;\n",
       "    }\n",
       "\n",
       "    .dataframe tbody tr th {\n",
       "        vertical-align: top;\n",
       "    }\n",
       "\n",
       "    .dataframe thead th {\n",
       "        text-align: right;\n",
       "    }\n",
       "</style>\n",
       "<table border=\"1\" class=\"dataframe\">\n",
       "  <thead>\n",
       "    <tr style=\"text-align: right;\">\n",
       "      <th></th>\n",
       "      <th>Date</th>\n",
       "      <th>Time</th>\n",
       "      <th>Transaction</th>\n",
       "      <th>Item</th>\n",
       "    </tr>\n",
       "  </thead>\n",
       "  <tbody>\n",
       "    <tr>\n",
       "      <th>0</th>\n",
       "      <td>2016-10-30</td>\n",
       "      <td>09:58:11</td>\n",
       "      <td>1</td>\n",
       "      <td>Bread</td>\n",
       "    </tr>\n",
       "    <tr>\n",
       "      <th>1</th>\n",
       "      <td>2016-10-30</td>\n",
       "      <td>10:05:34</td>\n",
       "      <td>2</td>\n",
       "      <td>Scandinavian</td>\n",
       "    </tr>\n",
       "    <tr>\n",
       "      <th>2</th>\n",
       "      <td>2016-10-30</td>\n",
       "      <td>10:05:34</td>\n",
       "      <td>2</td>\n",
       "      <td>Scandinavian</td>\n",
       "    </tr>\n",
       "    <tr>\n",
       "      <th>3</th>\n",
       "      <td>2016-10-30</td>\n",
       "      <td>10:07:57</td>\n",
       "      <td>3</td>\n",
       "      <td>Hot chocolate</td>\n",
       "    </tr>\n",
       "    <tr>\n",
       "      <th>4</th>\n",
       "      <td>2016-10-30</td>\n",
       "      <td>10:07:57</td>\n",
       "      <td>3</td>\n",
       "      <td>Jam</td>\n",
       "    </tr>\n",
       "    <tr>\n",
       "      <th>...</th>\n",
       "      <td>...</td>\n",
       "      <td>...</td>\n",
       "      <td>...</td>\n",
       "      <td>...</td>\n",
       "    </tr>\n",
       "    <tr>\n",
       "      <th>21288</th>\n",
       "      <td>2017-04-09</td>\n",
       "      <td>14:32:58</td>\n",
       "      <td>9682</td>\n",
       "      <td>Coffee</td>\n",
       "    </tr>\n",
       "    <tr>\n",
       "      <th>21289</th>\n",
       "      <td>2017-04-09</td>\n",
       "      <td>14:32:58</td>\n",
       "      <td>9682</td>\n",
       "      <td>Tea</td>\n",
       "    </tr>\n",
       "    <tr>\n",
       "      <th>21290</th>\n",
       "      <td>2017-04-09</td>\n",
       "      <td>14:57:06</td>\n",
       "      <td>9683</td>\n",
       "      <td>Coffee</td>\n",
       "    </tr>\n",
       "    <tr>\n",
       "      <th>21291</th>\n",
       "      <td>2017-04-09</td>\n",
       "      <td>14:57:06</td>\n",
       "      <td>9683</td>\n",
       "      <td>Pastry</td>\n",
       "    </tr>\n",
       "    <tr>\n",
       "      <th>21292</th>\n",
       "      <td>2017-04-09</td>\n",
       "      <td>15:04:24</td>\n",
       "      <td>9684</td>\n",
       "      <td>Smoothies</td>\n",
       "    </tr>\n",
       "  </tbody>\n",
       "</table>\n",
       "<p>21293 rows × 4 columns</p>\n",
       "</div>"
      ],
      "text/plain": [
       "             Date      Time  Transaction           Item\n",
       "0      2016-10-30  09:58:11            1          Bread\n",
       "1      2016-10-30  10:05:34            2   Scandinavian\n",
       "2      2016-10-30  10:05:34            2   Scandinavian\n",
       "3      2016-10-30  10:07:57            3  Hot chocolate\n",
       "4      2016-10-30  10:07:57            3            Jam\n",
       "...           ...       ...          ...            ...\n",
       "21288  2017-04-09  14:32:58         9682         Coffee\n",
       "21289  2017-04-09  14:32:58         9682            Tea\n",
       "21290  2017-04-09  14:57:06         9683         Coffee\n",
       "21291  2017-04-09  14:57:06         9683         Pastry\n",
       "21292  2017-04-09  15:04:24         9684      Smoothies\n",
       "\n",
       "[21293 rows x 4 columns]"
      ]
     },
     "execution_count": 4,
     "metadata": {},
     "output_type": "execute_result"
    }
   ],
   "source": [
    "dataset"
   ]
  },
  {
   "cell_type": "markdown",
   "id": "binding-compression",
   "metadata": {},
   "source": [
    "# Data Preprocessing"
   ]
  },
  {
   "cell_type": "markdown",
   "id": "integral-stroke",
   "metadata": {},
   "source": [
    "Firstly, remove 'None' items"
   ]
  },
  {
   "cell_type": "code",
   "execution_count": 5,
   "id": "sapphire-jenny",
   "metadata": {},
   "outputs": [],
   "source": [
    "dataset = dataset[dataset.Item != 'NONE']"
   ]
  },
  {
   "cell_type": "code",
   "execution_count": 6,
   "id": "excellent-apparatus",
   "metadata": {},
   "outputs": [
    {
     "data": {
      "text/html": [
       "<div>\n",
       "<style scoped>\n",
       "    .dataframe tbody tr th:only-of-type {\n",
       "        vertical-align: middle;\n",
       "    }\n",
       "\n",
       "    .dataframe tbody tr th {\n",
       "        vertical-align: top;\n",
       "    }\n",
       "\n",
       "    .dataframe thead th {\n",
       "        text-align: right;\n",
       "    }\n",
       "</style>\n",
       "<table border=\"1\" class=\"dataframe\">\n",
       "  <thead>\n",
       "    <tr style=\"text-align: right;\">\n",
       "      <th></th>\n",
       "      <th>Date</th>\n",
       "      <th>Time</th>\n",
       "      <th>Transaction</th>\n",
       "      <th>Item</th>\n",
       "    </tr>\n",
       "  </thead>\n",
       "  <tbody>\n",
       "    <tr>\n",
       "      <th>0</th>\n",
       "      <td>2016-10-30</td>\n",
       "      <td>09:58:11</td>\n",
       "      <td>1</td>\n",
       "      <td>Bread</td>\n",
       "    </tr>\n",
       "    <tr>\n",
       "      <th>1</th>\n",
       "      <td>2016-10-30</td>\n",
       "      <td>10:05:34</td>\n",
       "      <td>2</td>\n",
       "      <td>Scandinavian</td>\n",
       "    </tr>\n",
       "    <tr>\n",
       "      <th>2</th>\n",
       "      <td>2016-10-30</td>\n",
       "      <td>10:05:34</td>\n",
       "      <td>2</td>\n",
       "      <td>Scandinavian</td>\n",
       "    </tr>\n",
       "    <tr>\n",
       "      <th>3</th>\n",
       "      <td>2016-10-30</td>\n",
       "      <td>10:07:57</td>\n",
       "      <td>3</td>\n",
       "      <td>Hot chocolate</td>\n",
       "    </tr>\n",
       "    <tr>\n",
       "      <th>4</th>\n",
       "      <td>2016-10-30</td>\n",
       "      <td>10:07:57</td>\n",
       "      <td>3</td>\n",
       "      <td>Jam</td>\n",
       "    </tr>\n",
       "    <tr>\n",
       "      <th>...</th>\n",
       "      <td>...</td>\n",
       "      <td>...</td>\n",
       "      <td>...</td>\n",
       "      <td>...</td>\n",
       "    </tr>\n",
       "    <tr>\n",
       "      <th>21288</th>\n",
       "      <td>2017-04-09</td>\n",
       "      <td>14:32:58</td>\n",
       "      <td>9682</td>\n",
       "      <td>Coffee</td>\n",
       "    </tr>\n",
       "    <tr>\n",
       "      <th>21289</th>\n",
       "      <td>2017-04-09</td>\n",
       "      <td>14:32:58</td>\n",
       "      <td>9682</td>\n",
       "      <td>Tea</td>\n",
       "    </tr>\n",
       "    <tr>\n",
       "      <th>21290</th>\n",
       "      <td>2017-04-09</td>\n",
       "      <td>14:57:06</td>\n",
       "      <td>9683</td>\n",
       "      <td>Coffee</td>\n",
       "    </tr>\n",
       "    <tr>\n",
       "      <th>21291</th>\n",
       "      <td>2017-04-09</td>\n",
       "      <td>14:57:06</td>\n",
       "      <td>9683</td>\n",
       "      <td>Pastry</td>\n",
       "    </tr>\n",
       "    <tr>\n",
       "      <th>21292</th>\n",
       "      <td>2017-04-09</td>\n",
       "      <td>15:04:24</td>\n",
       "      <td>9684</td>\n",
       "      <td>Smoothies</td>\n",
       "    </tr>\n",
       "  </tbody>\n",
       "</table>\n",
       "<p>20507 rows × 4 columns</p>\n",
       "</div>"
      ],
      "text/plain": [
       "             Date      Time  Transaction           Item\n",
       "0      2016-10-30  09:58:11            1          Bread\n",
       "1      2016-10-30  10:05:34            2   Scandinavian\n",
       "2      2016-10-30  10:05:34            2   Scandinavian\n",
       "3      2016-10-30  10:07:57            3  Hot chocolate\n",
       "4      2016-10-30  10:07:57            3            Jam\n",
       "...           ...       ...          ...            ...\n",
       "21288  2017-04-09  14:32:58         9682         Coffee\n",
       "21289  2017-04-09  14:32:58         9682            Tea\n",
       "21290  2017-04-09  14:57:06         9683         Coffee\n",
       "21291  2017-04-09  14:57:06         9683         Pastry\n",
       "21292  2017-04-09  15:04:24         9684      Smoothies\n",
       "\n",
       "[20507 rows x 4 columns]"
      ]
     },
     "execution_count": 6,
     "metadata": {},
     "output_type": "execute_result"
    }
   ],
   "source": [
    "dataset"
   ]
  },
  {
   "cell_type": "markdown",
   "id": "expired-blink",
   "metadata": {},
   "source": [
    "For our models we need lists of items and one list is one transaction, so we can drop date and time"
   ]
  },
  {
   "cell_type": "code",
   "execution_count": 7,
   "id": "banned-ottawa",
   "metadata": {},
   "outputs": [],
   "source": [
    "dataset.drop(columns=['Date', 'Time'], inplace=True)"
   ]
  },
  {
   "cell_type": "markdown",
   "id": "multiple-siemens",
   "metadata": {},
   "source": [
    "Now lets make 2d array, where 1 row - 1 transaction, and before that check duplicates"
   ]
  },
  {
   "cell_type": "code",
   "execution_count": 8,
   "id": "copyrighted-claim",
   "metadata": {},
   "outputs": [
    {
     "data": {
      "text/plain": [
       "0        False\n",
       "1        False\n",
       "2         True\n",
       "3        False\n",
       "4        False\n",
       "         ...  \n",
       "21288    False\n",
       "21289    False\n",
       "21290    False\n",
       "21291    False\n",
       "21292    False\n",
       "Length: 20507, dtype: bool"
      ]
     },
     "execution_count": 8,
     "metadata": {},
     "output_type": "execute_result"
    }
   ],
   "source": [
    "dataset.duplicated()"
   ]
  },
  {
   "cell_type": "markdown",
   "id": "statutory-accordance",
   "metadata": {},
   "source": [
    "'True' means that this row was before, so drop them"
   ]
  },
  {
   "cell_type": "code",
   "execution_count": 9,
   "id": "thrown-hundred",
   "metadata": {},
   "outputs": [],
   "source": [
    "dataset.drop_duplicates(inplace = True)"
   ]
  },
  {
   "cell_type": "markdown",
   "id": "primary-curtis",
   "metadata": {},
   "source": [
    "Now create 2D array of items, where one row - one transaction"
   ]
  },
  {
   "cell_type": "code",
   "execution_count": 10,
   "id": "proprietary-ocean",
   "metadata": {},
   "outputs": [],
   "source": [
    "X = []\n",
    "for tr in range(1, dataset['Transaction'].max()+1):\n",
    "    items = dataset.loc[dataset['Transaction'] == tr]['Item'].tolist()\n",
    "    if len(items) != 0:\n",
    "        X.append(items)"
   ]
  },
  {
   "cell_type": "code",
   "execution_count": 11,
   "id": "geographic-reading",
   "metadata": {},
   "outputs": [
    {
     "data": {
      "text/plain": [
       "9465"
      ]
     },
     "execution_count": 11,
     "metadata": {},
     "output_type": "execute_result"
    }
   ],
   "source": [
    "len(X) # length is less than max id of transactions in data set because of missed data about some transactions"
   ]
  },
  {
   "cell_type": "markdown",
   "id": "personalized-browse",
   "metadata": {},
   "source": [
    "# Apriori"
   ]
  },
  {
   "cell_type": "markdown",
   "id": "short-essence",
   "metadata": {},
   "source": [
    "Lets check the most popular items, so they have a high probability to be our goal"
   ]
  },
  {
   "cell_type": "code",
   "execution_count": 12,
   "id": "underlying-difference",
   "metadata": {},
   "outputs": [
    {
     "data": {
      "text/html": [
       "<div>\n",
       "<style scoped>\n",
       "    .dataframe tbody tr th:only-of-type {\n",
       "        vertical-align: middle;\n",
       "    }\n",
       "\n",
       "    .dataframe tbody tr th {\n",
       "        vertical-align: top;\n",
       "    }\n",
       "\n",
       "    .dataframe thead th {\n",
       "        text-align: right;\n",
       "    }\n",
       "</style>\n",
       "<table border=\"1\" class=\"dataframe\">\n",
       "  <thead>\n",
       "    <tr style=\"text-align: right;\">\n",
       "      <th></th>\n",
       "      <th>Transaction</th>\n",
       "    </tr>\n",
       "    <tr>\n",
       "      <th>Item</th>\n",
       "      <th></th>\n",
       "    </tr>\n",
       "  </thead>\n",
       "  <tbody>\n",
       "    <tr>\n",
       "      <th>Coffee</th>\n",
       "      <td>4528</td>\n",
       "    </tr>\n",
       "    <tr>\n",
       "      <th>Bread</th>\n",
       "      <td>3097</td>\n",
       "    </tr>\n",
       "    <tr>\n",
       "      <th>Tea</th>\n",
       "      <td>1350</td>\n",
       "    </tr>\n",
       "    <tr>\n",
       "      <th>Cake</th>\n",
       "      <td>983</td>\n",
       "    </tr>\n",
       "    <tr>\n",
       "      <th>Pastry</th>\n",
       "      <td>815</td>\n",
       "    </tr>\n",
       "  </tbody>\n",
       "</table>\n",
       "</div>"
      ],
      "text/plain": [
       "        Transaction\n",
       "Item               \n",
       "Coffee         4528\n",
       "Bread          3097\n",
       "Tea            1350\n",
       "Cake            983\n",
       "Pastry          815"
      ]
     },
     "execution_count": 12,
     "metadata": {},
     "output_type": "execute_result"
    }
   ],
   "source": [
    "transaction_count = dataset.groupby(by='Item')[['Transaction']].count().sort_values(by='Transaction', ascending=False)\n",
    "transaction_count.head()"
   ]
  },
  {
   "cell_type": "code",
   "execution_count": 13,
   "id": "cloudy-perception",
   "metadata": {},
   "outputs": [
    {
     "data": {
      "text/html": [
       "<div>\n",
       "<style scoped>\n",
       "    .dataframe tbody tr th:only-of-type {\n",
       "        vertical-align: middle;\n",
       "    }\n",
       "\n",
       "    .dataframe tbody tr th {\n",
       "        vertical-align: top;\n",
       "    }\n",
       "\n",
       "    .dataframe thead th {\n",
       "        text-align: right;\n",
       "    }\n",
       "</style>\n",
       "<table border=\"1\" class=\"dataframe\">\n",
       "  <thead>\n",
       "    <tr style=\"text-align: right;\">\n",
       "      <th></th>\n",
       "      <th>Transaction</th>\n",
       "    </tr>\n",
       "    <tr>\n",
       "      <th>Item</th>\n",
       "      <th></th>\n",
       "    </tr>\n",
       "  </thead>\n",
       "  <tbody>\n",
       "    <tr>\n",
       "      <th>Coffee</th>\n",
       "      <td>23.974162</td>\n",
       "    </tr>\n",
       "    <tr>\n",
       "      <th>Bread</th>\n",
       "      <td>16.397522</td>\n",
       "    </tr>\n",
       "    <tr>\n",
       "      <th>Tea</th>\n",
       "      <td>7.147774</td>\n",
       "    </tr>\n",
       "    <tr>\n",
       "      <th>Cake</th>\n",
       "      <td>5.204638</td>\n",
       "    </tr>\n",
       "    <tr>\n",
       "      <th>Pastry</th>\n",
       "      <td>4.315137</td>\n",
       "    </tr>\n",
       "  </tbody>\n",
       "</table>\n",
       "</div>"
      ],
      "text/plain": [
       "        Transaction\n",
       "Item               \n",
       "Coffee    23.974162\n",
       "Bread     16.397522\n",
       "Tea        7.147774\n",
       "Cake       5.204638\n",
       "Pastry     4.315137"
      ]
     },
     "execution_count": 13,
     "metadata": {},
     "output_type": "execute_result"
    }
   ],
   "source": [
    "def convert_to_percentage(x):\n",
    "    return 100 * x / float(x.sum())\n",
    "\n",
    "transaction_percentage = transaction_count.apply(convert_to_percentage)\n",
    "transaction_percentage.head()"
   ]
  },
  {
   "cell_type": "markdown",
   "id": "preceding-wisdom",
   "metadata": {},
   "source": [
    "## Training the Apriori model on the dataset"
   ]
  },
  {
   "cell_type": "code",
   "execution_count": 14,
   "id": "partial-dining",
   "metadata": {},
   "outputs": [],
   "source": [
    "from apyori import apriori\n",
    "rules = apriori(transactions = X, min_support = 0.001, min_confidence = 0.1, min_lift = 3, min_length = 2, max_length = 3)"
   ]
  },
  {
   "cell_type": "markdown",
   "id": "essential-receipt",
   "metadata": {},
   "source": [
    "## Visualising the results"
   ]
  },
  {
   "cell_type": "markdown",
   "id": "direct-colombia",
   "metadata": {},
   "source": [
    "#### Putting the results well organised into a Pandas DataFrame (code was taken from course)"
   ]
  },
  {
   "cell_type": "code",
   "execution_count": 15,
   "id": "digital-ocean",
   "metadata": {},
   "outputs": [],
   "source": [
    "results = list(rules)"
   ]
  },
  {
   "cell_type": "code",
   "execution_count": 16,
   "id": "intensive-tumor",
   "metadata": {},
   "outputs": [],
   "source": [
    "def inspect(results):\n",
    "    lhs         = [tuple(result[2][0][0])[0] for result in results]\n",
    "    rhs         = [tuple(result[2][0][1])[0] for result in results]\n",
    "    supports    = [result[1] for result in results]\n",
    "    confidences = [result[2][0][2] for result in results]\n",
    "    lifts       = [result[2][0][3] for result in results]\n",
    "    return list(zip(lhs, rhs, supports, confidences, lifts))"
   ]
  },
  {
   "cell_type": "code",
   "execution_count": 17,
   "id": "exterior-integer",
   "metadata": {},
   "outputs": [],
   "source": [
    "resultsinDataFrame = pd.DataFrame(inspect(results), columns = ['Left Hand Side', 'Right Hand Side', 'Support', 'Confidence', 'Lift'])"
   ]
  },
  {
   "cell_type": "markdown",
   "id": "saved-cabin",
   "metadata": {},
   "source": [
    "#### Displaying the results sorted by descending lifts"
   ]
  },
  {
   "cell_type": "code",
   "execution_count": 18,
   "id": "cubic-tractor",
   "metadata": {},
   "outputs": [
    {
     "data": {
      "text/html": [
       "<div>\n",
       "<style scoped>\n",
       "    .dataframe tbody tr th:only-of-type {\n",
       "        vertical-align: middle;\n",
       "    }\n",
       "\n",
       "    .dataframe tbody tr th {\n",
       "        vertical-align: top;\n",
       "    }\n",
       "\n",
       "    .dataframe thead th {\n",
       "        text-align: right;\n",
       "    }\n",
       "</style>\n",
       "<table border=\"1\" class=\"dataframe\">\n",
       "  <thead>\n",
       "    <tr style=\"text-align: right;\">\n",
       "      <th></th>\n",
       "      <th>Left Hand Side</th>\n",
       "      <th>Right Hand Side</th>\n",
       "      <th>Support</th>\n",
       "      <th>Confidence</th>\n",
       "      <th>Lift</th>\n",
       "    </tr>\n",
       "  </thead>\n",
       "  <tbody>\n",
       "    <tr>\n",
       "      <th>26</th>\n",
       "      <td>Extra Salami or Feta</td>\n",
       "      <td>Coffee</td>\n",
       "      <td>0.001479</td>\n",
       "      <td>0.368421</td>\n",
       "      <td>56.243633</td>\n",
       "    </tr>\n",
       "    <tr>\n",
       "      <th>3</th>\n",
       "      <td>Extra Salami or Feta</td>\n",
       "      <td>Salad</td>\n",
       "      <td>0.001690</td>\n",
       "      <td>0.421053</td>\n",
       "      <td>40.255183</td>\n",
       "    </tr>\n",
       "    <tr>\n",
       "      <th>14</th>\n",
       "      <td>Alfajores</td>\n",
       "      <td>Juice</td>\n",
       "      <td>0.001057</td>\n",
       "      <td>0.434783</td>\n",
       "      <td>11.274568</td>\n",
       "    </tr>\n",
       "    <tr>\n",
       "      <th>4</th>\n",
       "      <td>Fudge</td>\n",
       "      <td>Jam</td>\n",
       "      <td>0.002536</td>\n",
       "      <td>0.169014</td>\n",
       "      <td>11.265622</td>\n",
       "    </tr>\n",
       "    <tr>\n",
       "      <th>12</th>\n",
       "      <td>Salad</td>\n",
       "      <td>Spanish Brunch</td>\n",
       "      <td>0.001268</td>\n",
       "      <td>0.121212</td>\n",
       "      <td>6.670190</td>\n",
       "    </tr>\n",
       "    <tr>\n",
       "      <th>37</th>\n",
       "      <td>Coke</td>\n",
       "      <td>Sandwich</td>\n",
       "      <td>0.001057</td>\n",
       "      <td>0.476190</td>\n",
       "      <td>6.628151</td>\n",
       "    </tr>\n",
       "    <tr>\n",
       "      <th>30</th>\n",
       "      <td>Spanish Brunch</td>\n",
       "      <td>Coffee</td>\n",
       "      <td>0.002007</td>\n",
       "      <td>0.110465</td>\n",
       "      <td>5.361807</td>\n",
       "    </tr>\n",
       "    <tr>\n",
       "      <th>17</th>\n",
       "      <td>Jammie Dodgers</td>\n",
       "      <td>Bread</td>\n",
       "      <td>0.001585</td>\n",
       "      <td>0.120000</td>\n",
       "      <td>5.139367</td>\n",
       "    </tr>\n",
       "    <tr>\n",
       "      <th>29</th>\n",
       "      <td>Jammie Dodgers</td>\n",
       "      <td>Coffee</td>\n",
       "      <td>0.001373</td>\n",
       "      <td>0.104000</td>\n",
       "      <td>5.048000</td>\n",
       "    </tr>\n",
       "    <tr>\n",
       "      <th>21</th>\n",
       "      <td>Cake</td>\n",
       "      <td>Soup</td>\n",
       "      <td>0.001162</td>\n",
       "      <td>0.169231</td>\n",
       "      <td>4.913403</td>\n",
       "    </tr>\n",
       "    <tr>\n",
       "      <th>23</th>\n",
       "      <td>Coffee</td>\n",
       "      <td>Juice</td>\n",
       "      <td>0.001162</td>\n",
       "      <td>0.180328</td>\n",
       "      <td>4.676173</td>\n",
       "    </tr>\n",
       "    <tr>\n",
       "      <th>24</th>\n",
       "      <td>Coffee</td>\n",
       "      <td>Sandwich</td>\n",
       "      <td>0.002007</td>\n",
       "      <td>0.311475</td>\n",
       "      <td>4.335463</td>\n",
       "    </tr>\n",
       "    <tr>\n",
       "      <th>38</th>\n",
       "      <td>Cookies</td>\n",
       "      <td>Juice</td>\n",
       "      <td>0.001585</td>\n",
       "      <td>0.161290</td>\n",
       "      <td>4.182501</td>\n",
       "    </tr>\n",
       "    <tr>\n",
       "      <th>6</th>\n",
       "      <td>Jammie Dodgers</td>\n",
       "      <td>Juice</td>\n",
       "      <td>0.002113</td>\n",
       "      <td>0.160000</td>\n",
       "      <td>4.149041</td>\n",
       "    </tr>\n",
       "    <tr>\n",
       "      <th>31</th>\n",
       "      <td>Truffles</td>\n",
       "      <td>Juice</td>\n",
       "      <td>0.001162</td>\n",
       "      <td>0.154930</td>\n",
       "      <td>4.017557</td>\n",
       "    </tr>\n",
       "  </tbody>\n",
       "</table>\n",
       "</div>"
      ],
      "text/plain": [
       "          Left Hand Side Right Hand Side   Support  Confidence       Lift\n",
       "26  Extra Salami or Feta          Coffee  0.001479    0.368421  56.243633\n",
       "3   Extra Salami or Feta           Salad  0.001690    0.421053  40.255183\n",
       "14             Alfajores           Juice  0.001057    0.434783  11.274568\n",
       "4                  Fudge             Jam  0.002536    0.169014  11.265622\n",
       "12                 Salad  Spanish Brunch  0.001268    0.121212   6.670190\n",
       "37                  Coke        Sandwich  0.001057    0.476190   6.628151\n",
       "30        Spanish Brunch          Coffee  0.002007    0.110465   5.361807\n",
       "17        Jammie Dodgers           Bread  0.001585    0.120000   5.139367\n",
       "29        Jammie Dodgers          Coffee  0.001373    0.104000   5.048000\n",
       "21                  Cake            Soup  0.001162    0.169231   4.913403\n",
       "23                Coffee           Juice  0.001162    0.180328   4.676173\n",
       "24                Coffee        Sandwich  0.002007    0.311475   4.335463\n",
       "38               Cookies           Juice  0.001585    0.161290   4.182501\n",
       "6         Jammie Dodgers           Juice  0.002113    0.160000   4.149041\n",
       "31              Truffles           Juice  0.001162    0.154930   4.017557"
      ]
     },
     "execution_count": 18,
     "metadata": {},
     "output_type": "execute_result"
    }
   ],
   "source": [
    "resultsinDataFrame.nlargest(n = 15, columns = 'Lift')"
   ]
  },
  {
   "cell_type": "markdown",
   "id": "enclosed-asthma",
   "metadata": {},
   "source": [
    "For my opinion, we should apply small hyperparameters (especially support) because of a lot transaction and small sets of items in them (usually 1).\n",
    "The most valuable parameter is lift, which shows probability to buy the product (Right Hand Side) if you buy another product (Left Hand Side) considering how popular the products are. So, we can advise basket market these more lifted: Extra Salami or Feta and Coffee, Extra Salami or Feta and Salad, Alfajores(cookie) and Juice. And there is others pairs which look logically: Spanish Brunch\tCoffee and Jammie Dodgers(cookie) and Coffee, but they had confidence only 10% "
   ]
  },
  {
   "cell_type": "markdown",
   "id": "serial-renaissance",
   "metadata": {},
   "source": [
    "# Eclat"
   ]
  },
  {
   "cell_type": "markdown",
   "id": "ranging-province",
   "metadata": {},
   "source": [
    "## Training the Eclat model on the dataset"
   ]
  },
  {
   "cell_type": "code",
   "execution_count": 19,
   "id": "passive-fancy",
   "metadata": {},
   "outputs": [],
   "source": [
    "rules = apriori(transactions = X, min_support = 0.001, min_confidence = 0.05, min_lift = 2, min_length = 2, max_length = 5)\n"
   ]
  },
  {
   "cell_type": "markdown",
   "id": "manufactured-seating",
   "metadata": {},
   "source": [
    "### Displaying the first results coming directly from the output of the apriori function"
   ]
  },
  {
   "cell_type": "code",
   "execution_count": 20,
   "id": "driven-soviet",
   "metadata": {},
   "outputs": [],
   "source": [
    "results = list(rules)\n",
    "\n",
    "def inspect(results):\n",
    "    lhs         = [tuple(result[2][0][0])[0] for result in results]\n",
    "    rhs         = [tuple(result[2][0][1])[0] for result in results]\n",
    "    supports    = [result[1] for result in results]\n",
    "    return list(zip(lhs, rhs, supports))\n",
    "\n",
    "resultsinDataFrame = pd.DataFrame(inspect(results), columns = ['Product 1', 'Product 2', 'Support'])"
   ]
  },
  {
   "cell_type": "markdown",
   "id": "coordinated-ranch",
   "metadata": {},
   "source": [
    "### Displaying the results sorted by descending supports"
   ]
  },
  {
   "cell_type": "code",
   "execution_count": 21,
   "id": "public-password",
   "metadata": {},
   "outputs": [
    {
     "data": {
      "text/html": [
       "<div>\n",
       "<style scoped>\n",
       "    .dataframe tbody tr th:only-of-type {\n",
       "        vertical-align: middle;\n",
       "    }\n",
       "\n",
       "    .dataframe tbody tr th {\n",
       "        vertical-align: top;\n",
       "    }\n",
       "\n",
       "    .dataframe thead th {\n",
       "        text-align: right;\n",
       "    }\n",
       "</style>\n",
       "<table border=\"1\" class=\"dataframe\">\n",
       "  <thead>\n",
       "    <tr style=\"text-align: right;\">\n",
       "      <th></th>\n",
       "      <th>Product 1</th>\n",
       "      <th>Product 2</th>\n",
       "      <th>Support</th>\n",
       "    </tr>\n",
       "  </thead>\n",
       "  <tbody>\n",
       "    <tr>\n",
       "      <th>58</th>\n",
       "      <td>Cake</td>\n",
       "      <td>Coffee</td>\n",
       "      <td>0.006867</td>\n",
       "    </tr>\n",
       "    <tr>\n",
       "      <th>16</th>\n",
       "      <td>Cookies</td>\n",
       "      <td>Juice</td>\n",
       "      <td>0.006128</td>\n",
       "    </tr>\n",
       "    <tr>\n",
       "      <th>24</th>\n",
       "      <td>Juice</td>\n",
       "      <td>Sandwich</td>\n",
       "      <td>0.005811</td>\n",
       "    </tr>\n",
       "    <tr>\n",
       "      <th>34</th>\n",
       "      <td>Sandwich</td>\n",
       "      <td>Soup</td>\n",
       "      <td>0.005494</td>\n",
       "    </tr>\n",
       "    <tr>\n",
       "      <th>13</th>\n",
       "      <td>Coke</td>\n",
       "      <td>Sandwich</td>\n",
       "      <td>0.005177</td>\n",
       "    </tr>\n",
       "    <tr>\n",
       "      <th>35</th>\n",
       "      <td>Sandwich</td>\n",
       "      <td>Truffles</td>\n",
       "      <td>0.003803</td>\n",
       "    </tr>\n",
       "    <tr>\n",
       "      <th>70</th>\n",
       "      <td>Cookies</td>\n",
       "      <td>Coffee</td>\n",
       "      <td>0.003698</td>\n",
       "    </tr>\n",
       "    <tr>\n",
       "      <th>71</th>\n",
       "      <td>Cookies</td>\n",
       "      <td>Coffee</td>\n",
       "      <td>0.003698</td>\n",
       "    </tr>\n",
       "    <tr>\n",
       "      <th>82</th>\n",
       "      <td>Sandwich</td>\n",
       "      <td>Coffee</td>\n",
       "      <td>0.003592</td>\n",
       "    </tr>\n",
       "    <tr>\n",
       "      <th>27</th>\n",
       "      <td>Mineral water</td>\n",
       "      <td>Sandwich</td>\n",
       "      <td>0.003275</td>\n",
       "    </tr>\n",
       "  </tbody>\n",
       "</table>\n",
       "</div>"
      ],
      "text/plain": [
       "        Product 1 Product 2   Support\n",
       "58           Cake    Coffee  0.006867\n",
       "16        Cookies     Juice  0.006128\n",
       "24          Juice  Sandwich  0.005811\n",
       "34       Sandwich      Soup  0.005494\n",
       "13           Coke  Sandwich  0.005177\n",
       "35       Sandwich  Truffles  0.003803\n",
       "70        Cookies    Coffee  0.003698\n",
       "71        Cookies    Coffee  0.003698\n",
       "82       Sandwich    Coffee  0.003592\n",
       "27  Mineral water  Sandwich  0.003275"
      ]
     },
     "execution_count": 21,
     "metadata": {},
     "output_type": "execute_result"
    }
   ],
   "source": [
    "resultsinDataFrame.nlargest(n = 10, columns = 'Support')"
   ]
  },
  {
   "cell_type": "markdown",
   "id": "acute-recognition",
   "metadata": {},
   "source": [
    "This algorithm is based on support = transaction containing product divided by number of transactions.\n",
    "According to this, pairs to cg\\hoose are cake and hot chocolate, cookies and juice, that look realistic."
   ]
  }
 ],
 "metadata": {
  "kernelspec": {
   "display_name": "Python 3",
   "language": "python",
   "name": "python3"
  },
  "language_info": {
   "codemirror_mode": {
    "name": "ipython",
    "version": 3
   },
   "file_extension": ".py",
   "mimetype": "text/x-python",
   "name": "python",
   "nbconvert_exporter": "python",
   "pygments_lexer": "ipython3",
   "version": "3.8.8"
  }
 },
 "nbformat": 4,
 "nbformat_minor": 5
}
