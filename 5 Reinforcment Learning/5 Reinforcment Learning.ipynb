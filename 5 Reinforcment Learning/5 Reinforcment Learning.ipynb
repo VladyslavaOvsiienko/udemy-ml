{
 "cells": [
  {
   "cell_type": "markdown",
   "id": "dimensional-label",
   "metadata": {},
   "source": [
    "# Reinforcment Learning Practice"
   ]
  },
  {
   "cell_type": "markdown",
   "id": "complex-application",
   "metadata": {},
   "source": [
    "This time we were going to optimize the online advertising, find\n",
    "the best ad, among different designs, the best ad that will convert the maximum customers\n",
    "to click on the ad and potentially buy the car. This data set is simulation taken from course, where we have 10 different ads and 10000 people (rows) with their future decision - click or not to click on ad (1 and 0) "
   ]
  },
  {
   "cell_type": "markdown",
   "id": "ahead-cambridge",
   "metadata": {},
   "source": [
    "# Upper Confidence Bound (UCB)"
   ]
  },
  {
   "cell_type": "markdown",
   "id": "allied-advertiser",
   "metadata": {},
   "source": [
    "## Importing the libraries"
   ]
  },
  {
   "cell_type": "code",
   "execution_count": 1,
   "id": "designed-madness",
   "metadata": {},
   "outputs": [],
   "source": [
    "import numpy as np\n",
    "import matplotlib.pyplot as plt\n",
    "import pandas as pd\n",
    "import math \n",
    "import random"
   ]
  },
  {
   "cell_type": "code",
   "execution_count": 2,
   "id": "sweet-wages",
   "metadata": {},
   "outputs": [],
   "source": [
    "import warnings\n",
    "warnings.filterwarnings(\"ignore\")"
   ]
  },
  {
   "cell_type": "markdown",
   "id": "sweet-bosnia",
   "metadata": {},
   "source": [
    "## Importing the dataset"
   ]
  },
  {
   "cell_type": "code",
   "execution_count": 3,
   "id": "acute-sperm",
   "metadata": {},
   "outputs": [],
   "source": [
    "dataset = pd.read_csv('Ads_CTR_Optimisation.csv')"
   ]
  },
  {
   "cell_type": "code",
   "execution_count": 4,
   "id": "manual-establishment",
   "metadata": {},
   "outputs": [
    {
     "data": {
      "text/html": [
       "<div>\n",
       "<style scoped>\n",
       "    .dataframe tbody tr th:only-of-type {\n",
       "        vertical-align: middle;\n",
       "    }\n",
       "\n",
       "    .dataframe tbody tr th {\n",
       "        vertical-align: top;\n",
       "    }\n",
       "\n",
       "    .dataframe thead th {\n",
       "        text-align: right;\n",
       "    }\n",
       "</style>\n",
       "<table border=\"1\" class=\"dataframe\">\n",
       "  <thead>\n",
       "    <tr style=\"text-align: right;\">\n",
       "      <th></th>\n",
       "      <th>Ad 1</th>\n",
       "      <th>Ad 2</th>\n",
       "      <th>Ad 3</th>\n",
       "      <th>Ad 4</th>\n",
       "      <th>Ad 5</th>\n",
       "      <th>Ad 6</th>\n",
       "      <th>Ad 7</th>\n",
       "      <th>Ad 8</th>\n",
       "      <th>Ad 9</th>\n",
       "      <th>Ad 10</th>\n",
       "    </tr>\n",
       "  </thead>\n",
       "  <tbody>\n",
       "    <tr>\n",
       "      <th>0</th>\n",
       "      <td>1</td>\n",
       "      <td>0</td>\n",
       "      <td>0</td>\n",
       "      <td>0</td>\n",
       "      <td>1</td>\n",
       "      <td>0</td>\n",
       "      <td>0</td>\n",
       "      <td>0</td>\n",
       "      <td>1</td>\n",
       "      <td>0</td>\n",
       "    </tr>\n",
       "    <tr>\n",
       "      <th>1</th>\n",
       "      <td>0</td>\n",
       "      <td>0</td>\n",
       "      <td>0</td>\n",
       "      <td>0</td>\n",
       "      <td>0</td>\n",
       "      <td>0</td>\n",
       "      <td>0</td>\n",
       "      <td>0</td>\n",
       "      <td>1</td>\n",
       "      <td>0</td>\n",
       "    </tr>\n",
       "    <tr>\n",
       "      <th>2</th>\n",
       "      <td>0</td>\n",
       "      <td>0</td>\n",
       "      <td>0</td>\n",
       "      <td>0</td>\n",
       "      <td>0</td>\n",
       "      <td>0</td>\n",
       "      <td>0</td>\n",
       "      <td>0</td>\n",
       "      <td>0</td>\n",
       "      <td>0</td>\n",
       "    </tr>\n",
       "    <tr>\n",
       "      <th>3</th>\n",
       "      <td>0</td>\n",
       "      <td>1</td>\n",
       "      <td>0</td>\n",
       "      <td>0</td>\n",
       "      <td>0</td>\n",
       "      <td>0</td>\n",
       "      <td>0</td>\n",
       "      <td>1</td>\n",
       "      <td>0</td>\n",
       "      <td>0</td>\n",
       "    </tr>\n",
       "    <tr>\n",
       "      <th>4</th>\n",
       "      <td>0</td>\n",
       "      <td>0</td>\n",
       "      <td>0</td>\n",
       "      <td>0</td>\n",
       "      <td>0</td>\n",
       "      <td>0</td>\n",
       "      <td>0</td>\n",
       "      <td>0</td>\n",
       "      <td>0</td>\n",
       "      <td>0</td>\n",
       "    </tr>\n",
       "    <tr>\n",
       "      <th>...</th>\n",
       "      <td>...</td>\n",
       "      <td>...</td>\n",
       "      <td>...</td>\n",
       "      <td>...</td>\n",
       "      <td>...</td>\n",
       "      <td>...</td>\n",
       "      <td>...</td>\n",
       "      <td>...</td>\n",
       "      <td>...</td>\n",
       "      <td>...</td>\n",
       "    </tr>\n",
       "    <tr>\n",
       "      <th>9995</th>\n",
       "      <td>0</td>\n",
       "      <td>0</td>\n",
       "      <td>1</td>\n",
       "      <td>0</td>\n",
       "      <td>0</td>\n",
       "      <td>0</td>\n",
       "      <td>0</td>\n",
       "      <td>1</td>\n",
       "      <td>0</td>\n",
       "      <td>0</td>\n",
       "    </tr>\n",
       "    <tr>\n",
       "      <th>9996</th>\n",
       "      <td>0</td>\n",
       "      <td>0</td>\n",
       "      <td>0</td>\n",
       "      <td>0</td>\n",
       "      <td>0</td>\n",
       "      <td>0</td>\n",
       "      <td>0</td>\n",
       "      <td>0</td>\n",
       "      <td>0</td>\n",
       "      <td>0</td>\n",
       "    </tr>\n",
       "    <tr>\n",
       "      <th>9997</th>\n",
       "      <td>0</td>\n",
       "      <td>0</td>\n",
       "      <td>0</td>\n",
       "      <td>0</td>\n",
       "      <td>0</td>\n",
       "      <td>0</td>\n",
       "      <td>0</td>\n",
       "      <td>0</td>\n",
       "      <td>0</td>\n",
       "      <td>0</td>\n",
       "    </tr>\n",
       "    <tr>\n",
       "      <th>9998</th>\n",
       "      <td>1</td>\n",
       "      <td>0</td>\n",
       "      <td>0</td>\n",
       "      <td>0</td>\n",
       "      <td>0</td>\n",
       "      <td>0</td>\n",
       "      <td>0</td>\n",
       "      <td>1</td>\n",
       "      <td>0</td>\n",
       "      <td>0</td>\n",
       "    </tr>\n",
       "    <tr>\n",
       "      <th>9999</th>\n",
       "      <td>0</td>\n",
       "      <td>1</td>\n",
       "      <td>0</td>\n",
       "      <td>0</td>\n",
       "      <td>0</td>\n",
       "      <td>0</td>\n",
       "      <td>0</td>\n",
       "      <td>0</td>\n",
       "      <td>0</td>\n",
       "      <td>0</td>\n",
       "    </tr>\n",
       "  </tbody>\n",
       "</table>\n",
       "<p>10000 rows × 10 columns</p>\n",
       "</div>"
      ],
      "text/plain": [
       "      Ad 1  Ad 2  Ad 3  Ad 4  Ad 5  Ad 6  Ad 7  Ad 8  Ad 9  Ad 10\n",
       "0        1     0     0     0     1     0     0     0     1      0\n",
       "1        0     0     0     0     0     0     0     0     1      0\n",
       "2        0     0     0     0     0     0     0     0     0      0\n",
       "3        0     1     0     0     0     0     0     1     0      0\n",
       "4        0     0     0     0     0     0     0     0     0      0\n",
       "...    ...   ...   ...   ...   ...   ...   ...   ...   ...    ...\n",
       "9995     0     0     1     0     0     0     0     1     0      0\n",
       "9996     0     0     0     0     0     0     0     0     0      0\n",
       "9997     0     0     0     0     0     0     0     0     0      0\n",
       "9998     1     0     0     0     0     0     0     1     0      0\n",
       "9999     0     1     0     0     0     0     0     0     0      0\n",
       "\n",
       "[10000 rows x 10 columns]"
      ]
     },
     "execution_count": 4,
     "metadata": {},
     "output_type": "execute_result"
    }
   ],
   "source": [
    "dataset"
   ]
  },
  {
   "cell_type": "markdown",
   "id": "falling-candidate",
   "metadata": {},
   "source": [
    "## Implementing UCB"
   ]
  },
  {
   "cell_type": "markdown",
   "id": "statewide-reform",
   "metadata": {},
   "source": [
    "![alt text](UCB_ALgorithm_Slide.png \"UCB Algorithm\")"
   ]
  },
  {
   "cell_type": "code",
   "execution_count": 5,
   "id": "advised-panama",
   "metadata": {},
   "outputs": [],
   "source": [
    "def UCB(data, number_of_users):\n",
    "    N = number_of_users \n",
    "    d = data.shape[1] # number of ad\n",
    "    ads_selected = []\n",
    "    numbers_of_selections = [0] * d\n",
    "    sums_of_rewards = [0] * d\n",
    "    total_reward = 0\n",
    "    for n in range(0, N):\n",
    "        ad = 0\n",
    "        max_upper_bound = 0\n",
    "        for i in range(0, d):\n",
    "            if (numbers_of_selections[i] > 0):\n",
    "                average_reward = sums_of_rewards[i] / numbers_of_selections[i]\n",
    "                delta_i = math.sqrt(3/2 * math.log(n + 1) / numbers_of_selections[i])\n",
    "                upper_bound = average_reward + delta_i\n",
    "            else:\n",
    "                upper_bound = 1e400 # first bound for the first selected ad\n",
    "            if(upper_bound > max_upper_bound):\n",
    "                max_upper_bound = upper_bound\n",
    "                ad = i\n",
    "        ads_selected.append(ad)\n",
    "        numbers_of_selections[ad] = numbers_of_selections[ad] + 1\n",
    "        reward = data.values[n, ad]\n",
    "        sums_of_rewards[ad] = sums_of_rewards[ad] + reward\n",
    "        total_reward = total_reward + reward\n",
    "    return total_reward, ads_selected, numbers_of_selections"
   ]
  },
  {
   "cell_type": "code",
   "execution_count": 6,
   "id": "exempt-equivalent",
   "metadata": {},
   "outputs": [
    {
     "data": {
      "text/plain": [
       "2178"
      ]
     },
     "execution_count": 6,
     "metadata": {},
     "output_type": "execute_result"
    }
   ],
   "source": [
    "total_reward, ads_selected, numbers_of_selections = UCB(dataset, 10000)\n",
    "total_reward"
   ]
  },
  {
   "cell_type": "markdown",
   "id": "republican-holly",
   "metadata": {},
   "source": [
    "## Visualising the results"
   ]
  },
  {
   "cell_type": "code",
   "execution_count": 7,
   "id": "broken-hanging",
   "metadata": {},
   "outputs": [
    {
     "data": {
      "image/png": "[encoded data removed]",
      "text/plain": [
       "<Figure size 432x288 with 1 Axes>"
      ]
     },
     "metadata": {
      "needs_background": "light"
     },
     "output_type": "display_data"
    }
   ],
   "source": [
    "plt.hist(ads_selected)\n",
    "plt.title('Histogram of ads selections')\n",
    "plt.xlabel('Ads')\n",
    "plt.ylabel('Number of times each ad was selected')\n",
    "plt.show()"
   ]
  },
  {
   "cell_type": "markdown",
   "id": "broadband-panic",
   "metadata": {},
   "source": [
    "Checking if algorithm will choose fifth add with less iterations"
   ]
  },
  {
   "cell_type": "code",
   "execution_count": 8,
   "id": "blank-vision",
   "metadata": {},
   "outputs": [
    {
     "name": "stdout",
     "output_type": "stream",
     "text": [
      "Numbers of iterations: 10000, ad selected: 4 number of selections: 6323,  total reward: 2178\n",
      "Numbers of iterations: 7000, ad selected: 4 number of selections: 3731,  total reward: 1423\n",
      "Numbers of iterations: 5000, ad selected: 4 number of selections: 2587,  total reward: 996\n",
      "Numbers of iterations: 2000, ad selected: 4 number of selections: 685,  total reward: 331\n",
      "Numbers of iterations: 1500, ad selected: 4 number of selections: 520,  total reward: 245\n",
      "Numbers of iterations: 1000, ad selected: 4 number of selections: 287,  total reward: 155\n",
      "Numbers of iterations: 800, ad selected: 4 number of selections: 200,  total reward: 120\n",
      "Numbers of iterations: 500, ad selected: 7 number of selections: 81,  total reward: 60\n",
      "Numbers of iterations: 100, ad selected: 7 number of selections: 16,  total reward: 13\n"
     ]
    }
   ],
   "source": [
    "for n in [10000, 7000, 5000, 2000, 1500, 1000, 800, 500, 100]:\n",
    "    total_reward, ads_selected, numbers_of_selections = UCB(dataset, n)\n",
    "    print(\n",
    "        'Numbers of iterations: {numb}, ad selected: {ad} number of selections: {selections},  total reward: {reward}'.format(\n",
    "            numb=n, ad=numbers_of_selections.index(max(numbers_of_selections)), selections=max(numbers_of_selections), reward = total_reward\n",
    "        )\n",
    "    )"
   ]
  },
  {
   "cell_type": "markdown",
   "id": "rental-validation",
   "metadata": {},
   "source": [
    "So for this algorithm 500 iterations wasn't enough"
   ]
  },
  {
   "cell_type": "markdown",
   "id": "productive-niger",
   "metadata": {},
   "source": [
    "# Thompson Sampling"
   ]
  },
  {
   "cell_type": "markdown",
   "id": "indian-banks",
   "metadata": {},
   "source": [
    "## Implementing Thompson Sampling"
   ]
  },
  {
   "cell_type": "markdown",
   "id": "perfect-thumbnail",
   "metadata": {},
   "source": [
    "![alt text](Thompson_Sampling_Slide.png \"UCB Algorithm\")"
   ]
  },
  {
   "cell_type": "code",
   "execution_count": 9,
   "id": "ethical-recall",
   "metadata": {},
   "outputs": [],
   "source": [
    "def Thompson_Sampling(data, number_of_users):\n",
    "    N = number_of_users\n",
    "    d = data.shape[1]\n",
    "    ads_selected = []\n",
    "    numbers_of_rewards_1 = [0] * d\n",
    "    numbers_of_rewards_0 = [0] * d\n",
    "    total_reward = 0\n",
    "    numbers_of_selections = [0] * d # algorithm dont need this value, it was added for comparing results\n",
    "    for n in range(0, N):\n",
    "        ad = 0\n",
    "        max_random = 0\n",
    "        for i in range(0, d):\n",
    "            random_beta = random.betavariate(numbers_of_rewards_1[i] + 1, numbers_of_rewards_0[i] + 1)\n",
    "            if random_beta > max_random:\n",
    "                max_random = random_beta\n",
    "                ad = i\n",
    "        ads_selected.append(ad)\n",
    "        numbers_of_selections[ad] = numbers_of_selections[ad] + 1\n",
    "        reward = data.values[n, ad]\n",
    "        if reward == 1:\n",
    "            numbers_of_rewards_1[ad] = numbers_of_rewards_1[ad] + 1\n",
    "        else:\n",
    "            numbers_of_rewards_0[ad] = numbers_of_rewards_0[ad] + 1\n",
    "        total_reward = total_reward + reward\n",
    "    return total_reward, ads_selected, numbers_of_selections"
   ]
  },
  {
   "cell_type": "code",
   "execution_count": 10,
   "id": "exclusive-feedback",
   "metadata": {},
   "outputs": [
    {
     "data": {
      "text/plain": [
       "2572"
      ]
     },
     "execution_count": 10,
     "metadata": {},
     "output_type": "execute_result"
    }
   ],
   "source": [
    "total_reward, ads_selected, numbers_of_selections = Thompson_Sampling(dataset, 10000)\n",
    "total_reward"
   ]
  },
  {
   "cell_type": "markdown",
   "id": "nutritional-person",
   "metadata": {},
   "source": [
    "## Visualising the results - Histogram"
   ]
  },
  {
   "cell_type": "code",
   "execution_count": 11,
   "id": "sealed-joseph",
   "metadata": {},
   "outputs": [
    {
     "data": {
      "image/png": "[encoded data removed]",
      "text/plain": [
       "<Figure size 432x288 with 1 Axes>"
      ]
     },
     "metadata": {
      "needs_background": "light"
     },
     "output_type": "display_data"
    }
   ],
   "source": [
    "plt.hist(ads_selected)\n",
    "plt.title('Histogram of ads selections')\n",
    "plt.xlabel('Ads')\n",
    "plt.ylabel('Number of times each ad was selected')\n",
    "plt.show()"
   ]
  },
  {
   "cell_type": "markdown",
   "id": "charitable-pixel",
   "metadata": {},
   "source": [
    "Checking if algorithm will choose fifth add with less iterations"
   ]
  },
  {
   "cell_type": "code",
   "execution_count": 17,
   "id": "civil-orleans",
   "metadata": {},
   "outputs": [
    {
     "name": "stdout",
     "output_type": "stream",
     "text": [
      "Numbers of iterations: 10000, ad selected: 4 number of selections: 9080,  total reward: 2598\n",
      "Numbers of iterations: 7000, ad selected: 4 number of selections: 6232,  total reward: 1776\n",
      "Numbers of iterations: 5000, ad selected: 4 number of selections: 4306,  total reward: 1267\n",
      "Numbers of iterations: 2000, ad selected: 4 number of selections: 1275,  total reward: 467\n",
      "Numbers of iterations: 1500, ad selected: 4 number of selections: 1234,  total reward: 378\n",
      "Numbers of iterations: 1000, ad selected: 4 number of selections: 594,  total reward: 210\n",
      "Numbers of iterations: 800, ad selected: 4 number of selections: 324,  total reward: 163\n",
      "Numbers of iterations: 500, ad selected: 4 number of selections: 149,  total reward: 89\n",
      "Numbers of iterations: 100, ad selected: 7 number of selections: 34,  total reward: 16\n"
     ]
    }
   ],
   "source": [
    "for n in [10000, 7000, 5000, 2000, 1500, 1000, 800, 500, 100]:\n",
    "    total_reward, ads_selected, numbers_of_selections = Thompson_Sampling(dataset, n)\n",
    "    print(\n",
    "        'Numbers of iterations: {numb}, ad selected: {ad} number of selections: {selections},  total reward: {reward}'.format(\n",
    "            numb=n, ad=numbers_of_selections.index(max(numbers_of_selections)), selections=max(numbers_of_selections), reward = total_reward\n",
    "        )\n",
    "    )"
   ]
  },
  {
   "cell_type": "markdown",
   "id": "incoming-moldova",
   "metadata": {},
   "source": [
    "So, this algorithm determines the best ad even with 500 iterations and it is better to use it while the site is running, since it allows you to change it less often using fewer resources. Comparing these two algorithms, UCB is deterministic and Thompson Sampling (so results can be different) is probabilistic and the second gave better results."
   ]
  }
 ],
 "metadata": {
  "kernelspec": {
   "display_name": "Python 3",
   "language": "python",
   "name": "python3"
  },
  "language_info": {
   "codemirror_mode": {
    "name": "ipython",
    "version": 3
   },
   "file_extension": ".py",
   "mimetype": "text/x-python",
   "name": "python",
   "nbconvert_exporter": "python",
   "pygments_lexer": "ipython3",
   "version": "3.8.8"
  }
 },
 "nbformat": 4,
 "nbformat_minor": 5
}
