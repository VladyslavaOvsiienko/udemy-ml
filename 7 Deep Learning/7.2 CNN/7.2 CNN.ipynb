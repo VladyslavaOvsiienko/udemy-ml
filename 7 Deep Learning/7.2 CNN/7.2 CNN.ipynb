{
 "cells": [
  {
   "cell_type": "markdown",
   "id": "instrumental-bankruptcy",
   "metadata": {},
   "source": [
    "# Convolutional Neural Network Practice"
   ]
  },
  {
   "cell_type": "markdown",
   "id": "acting-planet",
   "metadata": {},
   "source": [
    "The goal is to classify image where is a dog and where is a cat using CNN. The data (4000 photos of cats and 4000 of dogs) was taken from course."
   ]
  },
  {
   "cell_type": "markdown",
   "id": "judicial-companion",
   "metadata": {},
   "source": [
    "### Importing the libraries"
   ]
  },
  {
   "cell_type": "code",
   "execution_count": 4,
   "id": "natural-wallpaper",
   "metadata": {},
   "outputs": [],
   "source": [
    "import tensorflow as tf\n",
    "from keras.preprocessing.image import ImageDataGenerator"
   ]
  },
  {
   "cell_type": "markdown",
   "id": "ambient-blade",
   "metadata": {},
   "source": [
    "## Data Preprocessing"
   ]
  },
  {
   "cell_type": "markdown",
   "id": "designing-subdivision",
   "metadata": {},
   "source": [
    "Train set preparing"
   ]
  },
  {
   "cell_type": "code",
   "execution_count": 6,
   "id": "noble-trash",
   "metadata": {},
   "outputs": [
    {
     "name": "stdout",
     "output_type": "stream",
     "text": [
      "Found 8000 images belonging to 2 classes.\n"
     ]
    }
   ],
   "source": [
    "train_datagen = ImageDataGenerator(rescale = 1./255,\n",
    "                                   shear_range = 0.2,\n",
    "                                   zoom_range = 0.2,\n",
    "                                   horizontal_flip = True)\n",
    "training_set = train_datagen.flow_from_directory('/dataset/training_set', #USE YOUR PATH HERE\n",
    "                                                 target_size = (64, 64),\n",
    "                                                 batch_size = 32,\n",
    "                                                 class_mode = 'binary')"
   ]
  },
  {
   "cell_type": "markdown",
   "id": "accompanied-missouri",
   "metadata": {},
   "source": [
    "Test set preparing"
   ]
  },
  {
   "cell_type": "code",
   "execution_count": 7,
   "id": "relevant-german",
   "metadata": {},
   "outputs": [
    {
     "name": "stdout",
     "output_type": "stream",
     "text": [
      "Found 2000 images belonging to 2 classes.\n"
     ]
    }
   ],
   "source": [
    "test_datagen = ImageDataGenerator(rescale = 1./255)\n",
    "test_set = test_datagen.flow_from_directory('/dataset/test_set', #USE YOUR PATH HERE\n",
    "                                            target_size = (64, 64),\n",
    "                                            batch_size = 32,\n",
    "                                            class_mode = 'binary')"
   ]
  },
  {
   "cell_type": "markdown",
   "id": "built-radical",
   "metadata": {},
   "source": [
    "## Building the CNN"
   ]
  },
  {
   "cell_type": "markdown",
   "id": "lesbian-comedy",
   "metadata": {},
   "source": [
    "Initializing"
   ]
  },
  {
   "cell_type": "code",
   "execution_count": 8,
   "id": "checked-saturn",
   "metadata": {},
   "outputs": [],
   "source": [
    "cnn = tf.keras.models.Sequential()"
   ]
  },
  {
   "cell_type": "markdown",
   "id": "ultimate-mediterranean",
   "metadata": {},
   "source": [
    "First layer - Convolution"
   ]
  },
  {
   "cell_type": "code",
   "execution_count": 9,
   "id": "mature-control",
   "metadata": {},
   "outputs": [],
   "source": [
    "cnn.add(tf.keras.layers.Conv2D(filters=32, kernel_size=3, activation='relu', input_shape=[64, 64, 3]))"
   ]
  },
  {
   "cell_type": "markdown",
   "id": "alike-craft",
   "metadata": {},
   "source": [
    "First layer - Pooling"
   ]
  },
  {
   "cell_type": "code",
   "execution_count": 10,
   "id": "infectious-formation",
   "metadata": {},
   "outputs": [],
   "source": [
    "cnn.add(tf.keras.layers.MaxPool2D(pool_size=2, strides=2))"
   ]
  },
  {
   "cell_type": "markdown",
   "id": "effective-transaction",
   "metadata": {},
   "source": [
    "Second layer"
   ]
  },
  {
   "cell_type": "code",
   "execution_count": 11,
   "id": "found-guitar",
   "metadata": {},
   "outputs": [],
   "source": [
    "cnn.add(tf.keras.layers.Conv2D(filters=32, kernel_size=3, activation='relu'))\n",
    "cnn.add(tf.keras.layers.MaxPool2D(pool_size=2, strides=2))"
   ]
  },
  {
   "cell_type": "markdown",
   "id": "portable-postcard",
   "metadata": {},
   "source": [
    "Flattening"
   ]
  },
  {
   "cell_type": "code",
   "execution_count": 12,
   "id": "optical-nutrition",
   "metadata": {},
   "outputs": [],
   "source": [
    "cnn.add(tf.keras.layers.Flatten())"
   ]
  },
  {
   "cell_type": "markdown",
   "id": "aerial-partition",
   "metadata": {},
   "source": [
    "Full Connection"
   ]
  },
  {
   "cell_type": "code",
   "execution_count": 13,
   "id": "sitting-lebanon",
   "metadata": {},
   "outputs": [],
   "source": [
    "cnn.add(tf.keras.layers.Dense(units=128, activation='relu'))"
   ]
  },
  {
   "cell_type": "markdown",
   "id": "included-license",
   "metadata": {},
   "source": [
    "Output Layer"
   ]
  },
  {
   "cell_type": "code",
   "execution_count": 14,
   "id": "premier-compression",
   "metadata": {},
   "outputs": [],
   "source": [
    "cnn.add(tf.keras.layers.Dense(units=1, activation='sigmoid'))"
   ]
  },
  {
   "cell_type": "markdown",
   "id": "vertical-sauce",
   "metadata": {},
   "source": [
    "## Training the CNN"
   ]
  },
  {
   "cell_type": "markdown",
   "id": "essential-bride",
   "metadata": {},
   "source": [
    "Compiling the CNN"
   ]
  },
  {
   "cell_type": "code",
   "execution_count": 15,
   "id": "suffering-steering",
   "metadata": {},
   "outputs": [],
   "source": [
    "cnn.compile(optimizer = 'adam', loss = 'binary_crossentropy', metrics = ['accuracy'])"
   ]
  },
  {
   "cell_type": "markdown",
   "id": "parallel-fancy",
   "metadata": {},
   "source": [
    "Training the CNN on the Training set and evaluating it on the Test set"
   ]
  },
  {
   "cell_type": "code",
   "execution_count": 16,
   "id": "behind-display",
   "metadata": {},
   "outputs": [
    {
     "name": "stdout",
     "output_type": "stream",
     "text": [
      "Epoch 1/25\n",
      "250/250 [==============================] - 119s 472ms/step - loss: 0.6596 - accuracy: 0.6028 - val_loss: 0.6262 - val_accuracy: 0.6370\n",
      "Epoch 2/25\n",
      "250/250 [==============================] - 115s 460ms/step - loss: 0.5932 - accuracy: 0.6834 - val_loss: 0.5659 - val_accuracy: 0.7180\n",
      "Epoch 3/25\n",
      "250/250 [==============================] - 104s 414ms/step - loss: 0.5466 - accuracy: 0.7206 - val_loss: 0.5568 - val_accuracy: 0.7150\n",
      "Epoch 4/25\n",
      "250/250 [==============================] - 106s 423ms/step - loss: 0.5365 - accuracy: 0.7297 - val_loss: 0.5589 - val_accuracy: 0.7085\n",
      "Epoch 5/25\n",
      "250/250 [==============================] - 105s 418ms/step - loss: 0.4979 - accuracy: 0.7509 - val_loss: 0.6233 - val_accuracy: 0.6900\n",
      "Epoch 6/25\n",
      "250/250 [==============================] - 100s 399ms/step - loss: 0.4827 - accuracy: 0.7676 - val_loss: 0.4621 - val_accuracy: 0.7790\n",
      "Epoch 7/25\n",
      "250/250 [==============================] - 83s 330ms/step - loss: 0.4675 - accuracy: 0.7788 - val_loss: 0.4973 - val_accuracy: 0.7625\n",
      "Epoch 8/25\n",
      "250/250 [==============================] - 82s 328ms/step - loss: 0.4426 - accuracy: 0.7952 - val_loss: 0.4795 - val_accuracy: 0.7870\n",
      "Epoch 9/25\n",
      "250/250 [==============================] - 93s 374ms/step - loss: 0.4300 - accuracy: 0.7984 - val_loss: 0.4817 - val_accuracy: 0.7900\n",
      "Epoch 10/25\n",
      "250/250 [==============================] - 86s 343ms/step - loss: 0.4263 - accuracy: 0.8001 - val_loss: 0.4678 - val_accuracy: 0.7890\n",
      "Epoch 11/25\n",
      "250/250 [==============================] - 86s 345ms/step - loss: 0.4047 - accuracy: 0.8159 - val_loss: 0.4886 - val_accuracy: 0.7875\n",
      "Epoch 12/25\n",
      "250/250 [==============================] - 87s 349ms/step - loss: 0.4012 - accuracy: 0.8155 - val_loss: 0.4354 - val_accuracy: 0.8060\n",
      "Epoch 13/25\n",
      "250/250 [==============================] - 86s 345ms/step - loss: 0.3792 - accuracy: 0.8276 - val_loss: 0.4827 - val_accuracy: 0.7780\n",
      "Epoch 14/25\n",
      "250/250 [==============================] - 91s 363ms/step - loss: 0.3708 - accuracy: 0.8310 - val_loss: 0.4284 - val_accuracy: 0.8050\n",
      "Epoch 15/25\n",
      "250/250 [==============================] - 85s 341ms/step - loss: 0.3658 - accuracy: 0.8357 - val_loss: 0.4549 - val_accuracy: 0.7965\n",
      "Epoch 16/25\n",
      "250/250 [==============================] - 85s 341ms/step - loss: 0.3610 - accuracy: 0.8411 - val_loss: 0.5430 - val_accuracy: 0.7670\n",
      "Epoch 17/25\n",
      "250/250 [==============================] - 85s 339ms/step - loss: 0.3370 - accuracy: 0.8531 - val_loss: 0.4474 - val_accuracy: 0.7980\n",
      "Epoch 18/25\n",
      "250/250 [==============================] - 85s 340ms/step - loss: 0.3348 - accuracy: 0.8475 - val_loss: 0.4539 - val_accuracy: 0.8050\n",
      "Epoch 19/25\n",
      "250/250 [==============================] - 84s 336ms/step - loss: 0.3088 - accuracy: 0.8674 - val_loss: 0.4398 - val_accuracy: 0.8150\n",
      "Epoch 20/25\n",
      "250/250 [==============================] - 85s 340ms/step - loss: 0.3012 - accuracy: 0.8714 - val_loss: 0.4841 - val_accuracy: 0.8090\n",
      "Epoch 21/25\n",
      "250/250 [==============================] - 85s 341ms/step - loss: 0.2969 - accuracy: 0.8739 - val_loss: 0.5413 - val_accuracy: 0.7820\n",
      "Epoch 22/25\n",
      "250/250 [==============================] - 84s 336ms/step - loss: 0.2871 - accuracy: 0.8752 - val_loss: 0.4874 - val_accuracy: 0.7965\n",
      "Epoch 23/25\n",
      "250/250 [==============================] - 85s 340ms/step - loss: 0.2768 - accuracy: 0.8796 - val_loss: 0.4720 - val_accuracy: 0.8110\n",
      "Epoch 24/25\n",
      "250/250 [==============================] - 85s 339ms/step - loss: 0.2636 - accuracy: 0.8903 - val_loss: 0.4663 - val_accuracy: 0.8100\n",
      "Epoch 25/25\n",
      "250/250 [==============================] - 84s 337ms/step - loss: 0.2602 - accuracy: 0.8935 - val_loss: 0.4631 - val_accuracy: 0.8075\n"
     ]
    },
    {
     "data": {
      "text/plain": [
       "<keras.callbacks.History at 0x1cc27f018b0>"
      ]
     },
     "execution_count": 16,
     "metadata": {},
     "output_type": "execute_result"
    }
   ],
   "source": [
    "cnn.fit(x = training_set, validation_data = test_set, epochs = 25)"
   ]
  },
  {
   "cell_type": "markdown",
   "id": "black-definition",
   "metadata": {},
   "source": [
    "## Making a single prediction"
   ]
  },
  {
   "cell_type": "code",
   "execution_count": 17,
   "id": "driving-hollow",
   "metadata": {},
   "outputs": [],
   "source": [
    "import numpy as np\n",
    "from keras.preprocessing import image\n",
    "test_image = image.load_img('D:/Studying/MLUdemy/Homeworks/dataset/single_prediction/cat_or_dog_1.jpg', target_size = (64, 64))\n",
    "test_image = image.img_to_array(test_image)\n",
    "test_image = np.expand_dims(test_image, axis = 0)\n",
    "result = cnn.predict(test_image)\n",
    "training_set.class_indices\n",
    "if result[0][0] == 1:\n",
    "    prediction = 'dog'\n",
    "else:\n",
    "    prediction = 'cat'"
   ]
  },
  {
   "cell_type": "code",
   "execution_count": 18,
   "id": "coral-switch",
   "metadata": {},
   "outputs": [
    {
     "name": "stdout",
     "output_type": "stream",
     "text": [
      "dog\n"
     ]
    }
   ],
   "source": [
    "print(prediction)"
   ]
  },
  {
   "cell_type": "markdown",
   "id": "sitting-stomach",
   "metadata": {},
   "source": [
    "So accuracy scores from train and test sets are great - 0.89 and 0.8 and this means that our model is not overfitted and can make good classification"
   ]
  }
 ],
 "metadata": {
  "kernelspec": {
   "display_name": "Python 3",
   "language": "python",
   "name": "python3"
  },
  "language_info": {
   "codemirror_mode": {
    "name": "ipython",
    "version": 3
   },
   "file_extension": ".py",
   "mimetype": "text/x-python",
   "name": "python",
   "nbconvert_exporter": "python",
   "pygments_lexer": "ipython3",
   "version": "3.8.8"
  }
 },
 "nbformat": 4,
 "nbformat_minor": 5
}
